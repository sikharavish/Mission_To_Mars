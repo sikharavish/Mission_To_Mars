{
 "cells": [
  {
   "cell_type": "code",
   "execution_count": 1,
   "id": "0fec5cf6",
   "metadata": {},
   "outputs": [],
   "source": [
    "from splinter import Browser\n",
    "from bs4 import BeautifulSoup as soup\n",
    "from html.parser import HTMLParser\n",
    "from webdriver_manager.chrome import ChromeDriverManager"
   ]
  },
  {
   "cell_type": "code",
   "execution_count": 2,
   "id": "f51930bd",
   "metadata": {},
   "outputs": [],
   "source": [
    "#!pip install splinter==0.17.0"
   ]
  },
  {
   "cell_type": "code",
   "execution_count": 3,
   "id": "e8cf944d",
   "metadata": {},
   "outputs": [],
   "source": [
    "#!pip install selenium"
   ]
  },
  {
   "cell_type": "code",
   "execution_count": 4,
   "id": "56e304c3",
   "metadata": {},
   "outputs": [],
   "source": [
    "# Set up Splinter\n",
    "executable_path = {'executable_path': ChromeDriverManager().install()}\n",
    "#browser = webdriver.Chrome(ChromeDriverManager().install())\n",
    "#browser.get('http://localhost:8000')\n",
    "browser = Browser('chrome', **executable_path, headless=False)\n"
   ]
  },
  {
   "cell_type": "code",
   "execution_count": 5,
   "id": "050aade4",
   "metadata": {},
   "outputs": [],
   "source": [
    "url = 'http://quotes.toscrape.com'\n",
    "browser.visit(url)"
   ]
  },
  {
   "cell_type": "code",
   "execution_count": 6,
   "id": "50ea9080",
   "metadata": {},
   "outputs": [],
   "source": [
    "#from html.parser import HTMLParser"
   ]
  },
  {
   "cell_type": "code",
   "execution_count": 7,
   "id": "4df71b41",
   "metadata": {},
   "outputs": [],
   "source": [
    "html=browser.html\n",
    "html_soup=soup(html,'html.parser')"
   ]
  },
  {
   "cell_type": "code",
   "execution_count": 8,
   "id": "91b313f2",
   "metadata": {},
   "outputs": [
    {
     "data": {
      "text/plain": [
       "'Top Ten tags'"
      ]
     },
     "execution_count": 8,
     "metadata": {},
     "output_type": "execute_result"
    }
   ],
   "source": [
    "title=html_soup.find('h2').text\n",
    "title"
   ]
  },
  {
   "cell_type": "code",
   "execution_count": 9,
   "id": "05724426",
   "metadata": {},
   "outputs": [
    {
     "name": "stdout",
     "output_type": "stream",
     "text": [
      "love\n",
      "inspirational\n",
      "life\n",
      "humor\n",
      "books\n",
      "reading\n",
      "friendship\n",
      "friends\n",
      "truth\n",
      "simile\n"
     ]
    }
   ],
   "source": [
    "tag_box=html_soup.find('div',class_='tags-box')\n",
    "tags = tag_box.find_all('a',class_='tag')\n",
    "for tag in tags:\n",
    "    word=tag.text\n",
    "    print(word)"
   ]
  },
  {
   "cell_type": "code",
   "execution_count": 10,
   "id": "af6e861b",
   "metadata": {},
   "outputs": [],
   "source": [
    "from selenium import webdriver\n",
    "from selenium.webdriver.common.by import By"
   ]
  },
  {
   "cell_type": "code",
   "execution_count": 11,
   "id": "52ba58bb",
   "metadata": {},
   "outputs": [],
   "source": [
    "#driver = webdriver.Chrome()"
   ]
  },
  {
   "cell_type": "code",
   "execution_count": 13,
   "id": "2d723e3a",
   "metadata": {},
   "outputs": [
    {
     "name": "stdout",
     "output_type": "stream",
     "text": [
      "page: 1 -----\n",
      "“The world as we have created it is a process of our thinking. It cannot be changed without changing our thinking.”\n",
      "page: 1 -----\n",
      "“It is our choices, Harry, that show what we truly are, far more than our abilities.”\n",
      "page: 1 -----\n",
      "“There are only two ways to live your life. One is as though nothing is a miracle. The other is as though everything is a miracle.”\n",
      "page: 1 -----\n",
      "“The person, be it gentleman or lady, who has not pleasure in a good novel, must be intolerably stupid.”\n",
      "page: 1 -----\n",
      "“Imperfection is beauty, madness is genius and it's better to be absolutely ridiculous than absolutely boring.”\n",
      "page: 1 -----\n",
      "“Try not to become a man of success. Rather become a man of value.”\n",
      "page: 1 -----\n",
      "“It is better to be hated for what you are than to be loved for what you are not.”\n",
      "page: 1 -----\n",
      "“I have not failed. I've just found 10,000 ways that won't work.”\n",
      "page: 1 -----\n",
      "“A woman is like a tea bag; you never know how strong it is until it's in hot water.”\n",
      "page: 1 -----\n",
      "“A day without sunshine is like, you know, night.”\n"
     ]
    },
    {
     "ename": "AttributeError",
     "evalue": "'WebDriver' object has no attribute 'find_element'",
     "output_type": "error",
     "traceback": [
      "\u001b[0;31m---------------------------------------------------------------------------\u001b[0m",
      "\u001b[0;31mAttributeError\u001b[0m                            Traceback (most recent call last)",
      "Input \u001b[0;32mIn [13]\u001b[0m, in \u001b[0;36m<cell line: 3>\u001b[0;34m()\u001b[0m\n\u001b[1;32m      8\u001b[0m     \u001b[38;5;28mprint\u001b[39m(\u001b[38;5;124m'\u001b[39m\u001b[38;5;124mpage:\u001b[39m\u001b[38;5;124m'\u001b[39m,x,\u001b[38;5;124m'\u001b[39m\u001b[38;5;124m-----\u001b[39m\u001b[38;5;124m'\u001b[39m)\n\u001b[1;32m      9\u001b[0m     \u001b[38;5;28mprint\u001b[39m(quote\u001b[38;5;241m.\u001b[39mtext)\n\u001b[0;32m---> 10\u001b[0m \u001b[43mbrowser\u001b[49m\u001b[38;5;241;43m.\u001b[39;49m\u001b[43mfind_element\u001b[49m(BY\u001b[38;5;241m.\u001b[39mPARTIAL_LINK_TEXT,\u001b[38;5;124m'\u001b[39m\u001b[38;5;124mNext\u001b[39m\u001b[38;5;124m'\u001b[39m)\u001b[38;5;241m.\u001b[39mclick()\n",
      "\u001b[0;31mAttributeError\u001b[0m: 'WebDriver' object has no attribute 'find_element'"
     ]
    }
   ],
   "source": [
    "url = 'http://quotes.toscrape.com'\n",
    "browser.visit(url)\n",
    "for x in range(1,6):\n",
    "    html = browser.html\n",
    "    quote_soup = soup(html,'html.parser')\n",
    "    quotes=quote_soup.find_all('span',class_='text')\n",
    "    for quote in quotes:\n",
    "        print('page:',x,'-----')\n",
    "        print(quote.text)\n",
    "    browser.find_element(BY.PARTIAL_LINK_TEXT,'Next').click()\n",
    "#browser.links.find_by_partial_text('Next').click()"
   ]
  },
  {
   "cell_type": "code",
   "execution_count": null,
   "id": "b23b761a",
   "metadata": {},
   "outputs": [],
   "source": []
  }
 ],
 "metadata": {
  "kernelspec": {
   "display_name": "PythonData",
   "language": "python",
   "name": "pythondata"
  },
  "language_info": {
   "codemirror_mode": {
    "name": "ipython",
    "version": 3
   },
   "file_extension": ".py",
   "mimetype": "text/x-python",
   "name": "python",
   "nbconvert_exporter": "python",
   "pygments_lexer": "ipython3",
   "version": "3.9.12"
  }
 },
 "nbformat": 4,
 "nbformat_minor": 5
}
